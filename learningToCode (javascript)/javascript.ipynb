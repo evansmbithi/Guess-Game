{
 "cells": [
  {
   "cell_type": "markdown",
   "metadata": {},
   "source": [
    "# Learning to Code (JAVASCRIPT)\n",
    "\n",
    "## Module 1\n",
    "Use any text editor or javascript console window (node, browser console, etc)\n",
    "\n",
    "### URL sanitizer\n",
    "Variable declaration\n",
    "> website = \"https://mbithi.com/\" \n",
    "\n",
    "<strong>Assume user input is not perfect</strong>\n",
    "\n"
   ]
  },
  {
   "cell_type": "code",
   "execution_count": null,
   "metadata": {},
   "outputs": [],
   "source": [
    "URL = \"tHis is mY  fIrSt javascript trial\""
   ]
  },
  {
   "cell_type": "markdown",
   "metadata": {},
   "source": [
    "Convert strings to lowercase\n",
    "> URL = URL.toLowerCase() <br>\n",
    "'this  is my first javascript trial'<br>\n",
    "\n",
    "Replace extra spaces with regular spaces"
   ]
  },
  {
   "cell_type": "code",
   "execution_count": null,
   "metadata": {},
   "outputs": [],
   "source": [
    " URL = URL.replace(\"  \", \" \") \n",
    "'this is my first javascript trial'"
   ]
  },
  {
   "cell_type": "markdown",
   "metadata": {},
   "source": [
    "Split the sentence to independent array of words (text blob)\n",
    "> URL = URL.split(\" \") <br>\n",
    "  Splits all the spaces into an array<br>\n",
    "[ 'this', 'is', 'my', 'first', 'javascript', 'trial' ]<br>\n",
    "\n",
    "Join the pieces of the array with a dash\n",
    "> URL = URL.join(\"-\") <br>\n",
    "'this-is-my-first-javascript-trial'<br>\n",
    "\n",
    "Concatination\n",
    "> website + URL <br>\n",
    "'https://mbithi.com/this-is-my-first-javascript-trial'\n"
   ]
  },
  {
   "cell_type": "markdown",
   "metadata": {},
   "source": [
    "## Module 2\n",
    "\n",
    "### Assignment operators\n",
    "\n",
    "Assign 25 to num1\n",
    "> num1 = 25 <br>\n",
    "25<br>\n",
    "\n",
    "> num1 + 10<br>\n",
    "35<br>\n",
    "\n",
    "Any arithmetic operation on num1 is not stored unless it is assigned a variable\n",
    "> num1<br>\n",
    "25<br>\n",
    "> num1 = num1 + 10<br>\n",
    "35<br>\n",
    "> num1<br>\n",
    "35<br>\n",
    "\n",
    "<strong>+= \"Append\" operator</strong><br>\n",
    "Not only does the operator perform addition of num1, but it assigns the result to the variable\n",
    "> num1 += 10<br>\n",
    "45<br>\n",
    "> num1<br>\n",
    "45<br>\n",
    "\n",
    "<strong>NB: Can apply to any other operator * / % + - .</strong>\n"
   ]
  },
  {
   "cell_type": "markdown",
   "metadata": {},
   "source": [
    "## Module 3\n",
    "\n",
    "### Comparison operators\n",
    "\n",
    "== Equals,\n",
    "=== Strict Equals,\n",
    "!= Not Equals,\n",
    "!== Strict does not Equal, >= Greater than or equal to, <= Lesser than or equal to, \n",
    "&& AND,\n",
    "|| OR"
   ]
  },
  {
   "cell_type": "markdown",
   "metadata": {},
   "source": [
    "#### Strict Comparison\n",
    "Consider the following <br>\n",
    "let age = 20;\n",
    "> age == \"20\"  true <br>\n",
    "This comparison shows the value of age to be true because it equates the string value \"20\" to the integer value assigned. However, this is not true!\n",
    "\n",
    "Using <b>strict</b> comparison checks the data type and articulates a false because \"20\" is considered to be a string not a number.\n",
    "> age === \"20\"\n",
    "false<br>\n",
    "> age === 20\n",
    "true"
   ]
  },
  {
   "cell_type": "markdown",
   "metadata": {},
   "source": [
    "## Module 4\n",
    "\n",
    "### if condition\n",
    "For instance <br>\n",
    "var name = prompt(\"What's your name?\"); <br>\n",
    "\n",
    "if (name){ <br>\n",
    " alert(\"Hello\" + name); <br>\n",
    "}\n",
    "\n",
    "If the user enters a name, it is going to return a <strong>true</strong> value. As long as the name variable is not null, undefined or false.\n",
    "\n",
    "if(<em style=\"color: red\">true</em>){....}"
   ]
  },
  {
   "cell_type": "markdown",
   "metadata": {},
   "source": [
    "## Module 5\n",
    "\n",
    "### Query Selectors\n",
    "#### Adding Information to a page\n",
    "For a div with id=\"main\"<br>\n",
    "< div id=\"main\">\n",
    "\n",
    "< /div>\n",
    "\n",
    "var main = document.querySelector('#main')<br>\n",
    "The dot notation means that the query selector is a function that is part of the page document.<br>\n",
    "The query selector targets the div with id=\"main\" similar to CSS ('#main'); ('.main') for div of class=\"main\".\n",
    "\n",
    "main.innerHTML = \"Hello World\";<br>\n",
    "InnerHTML is NOT a function. Instead it changes what is held inside the HTML element; < div id=\"main\"> for this case.\n",
    "\n",
    "main.innerHTML += \"edited\";<br>\n",
    "This appends the text \"edited\" on to the existing text.\n",
    "\n",
    "var content = main.innerHTML; <br>\n",
    "Stores page content in a variable called 'content'\n",
    "\n",
    "<b>More operations</b><br>\n",
    "main.innerHTML = \"You win\"<br>\n",
    "'You win'<br>\n",
    "content = main.innerHTML<br>\n",
    "content = content.toUpperCase().replace(' ', '-')<br>\n",
    "main.innerHTML = content<br>\n",
    "'YOU-WIN'\n",
    "\n",
    "#### Attribute manipulation\n",
    "Consider an input element<br>\n",
    "< input type=\"text\" class=\"textfield\" value=\"input text here\">\n",
    "\n",
    "var txt = document.querySelector('.textfield')<br>\n",
    "Selects the input element of class=\"textfield\"\n",
    "\n",
    "txt.value = \"Enter Email\"<br>\n",
    "'Enter Email'<br>\n",
    "Replaces the text in the value attribute\n",
    "\n",
    "<b>CSS styling</b><br>\n",
    "txt.style.border = 0;\n",
    "\n",
    "txt.style.marginTop = '50px';\n",
    "\n",
    "txt.style.border = '1px solid #000';\n",
    "\n",
    "txt.style.paddingTop = '50px';<br>\n",
    "The styling attributes are written in camelCase rather than using dashes<br>e.g paddingTop instead of padding-top.\n",
    "\n",
    "These creates a style attribute on the input element<br>\n",
    "< input type=\"text\" class=\"textfield\" value=\"Enter Email\" <span style=\"color: red\">style=\"border: 1px solid rgb(0, 0, 0); margin-top: 50px; padding-top: 50px;\"</span>>\n"
   ]
  },
  {
   "cell_type": "markdown",
   "metadata": {},
   "source": [
    "## Module 6\n",
    "\n",
    "### Functions\n",
    "Don't Repeat Yourself (DRY) methodology\n",
    "\n",
    "syntax:<br>\n",
    "function Name() { <br>\n",
    "    //statements<br>\n",
    "}\n",
    "\n",
    "Name(); //call the function\n",
    "\n",
    "example: <br>\n"
   ]
  },
  {
   "cell_type": "code",
   "execution_count": null,
   "metadata": {},
   "outputs": [],
   "source": [
    "function Addition (num1, num2){\n",
    "     var total = num1 + num2;\n",
    "     \n",
    "     return total;\n",
    " }\n",
    " \n",
    " Addition(10, 15);"
   ]
  },
  {
   "cell_type": "markdown",
   "metadata": {},
   "source": [
    "<b>var</b> - declares a variable inside a scope. This means that variables can only exist inside of certain areas.\n",
    "\n",
    "if you have a variable declared with a <em>var</em> inside a function, they can only be accessed inside that function.<br>Prevents variables from bleeding out of the function scope, unless called with a <b>return</b> keyword."
   ]
  },
  {
   "cell_type": "markdown",
   "metadata": {},
   "source": [
    "consider the following illustration"
   ]
  },
  {
   "cell_type": "code",
   "execution_count": null,
   "metadata": {},
   "outputs": [],
   "source": [
    "function Addition(){\n",
    "    num1 = 15;\n",
    "    num2 = 30;\n",
    "    total = num1 + num2;\n",
    "}\n",
    "\n",
    "Addition();\n",
    "alert(total);"
   ]
  },
  {
   "cell_type": "markdown",
   "metadata": {},
   "source": [
    "The total variable bleeds out of the function and displays the result on alert(). <br>\n",
    "Upon adding the var keyword before each variable declaration, the total variable is no longer accessible; \n",
    "nothing gets alerted!"
   ]
  },
  {
   "cell_type": "code",
   "execution_count": null,
   "metadata": {},
   "outputs": [],
   "source": [
    "function Addition(){\n",
    "    var num1 = 15;\n",
    "    var num2 = 30;\n",
    "    var total = num1 + num2;\n",
    "}\n",
    "\n",
    "Addition();\n",
    "alert(total);"
   ]
  },
  {
   "cell_type": "markdown",
   "metadata": {},
   "source": [
    "The total can only be displayed through a return statement inside the function scope.<br> \n",
    "Return displays the result of whatever the function does in form of a variable definition. new_total = Addition();"
   ]
  },
  {
   "cell_type": "code",
   "execution_count": null,
   "metadata": {},
   "outputs": [],
   "source": [
    "function Addition(){\n",
    "    var num1 = 15;\n",
    "    var num2 = 30;\n",
    "    var total = num1 + num2;\n",
    "    \n",
    "    return total;\n",
    "}\n",
    "\n",
    "new_total = Addition();\n",
    "alert(new_total);"
   ]
  },
  {
   "cell_type": "markdown",
   "metadata": {},
   "source": [
    "<u>Hands-on examples</u>"
   ]
  },
  {
   "cell_type": "code",
   "execution_count": null,
   "metadata": {},
   "outputs": [],
   "source": [
    "/****1****/\n",
    "\n",
    "function Addition (num1, num2){ \n",
    "    var total = num1 + num2; \n",
    "    return total;\n",
    "}\n",
    "\n",
    "txt = document.querySelector('.textfield');\n",
    "txt.value = Addition(10, 15);"
   ]
  },
  {
   "cell_type": "code",
   "execution_count": null,
   "metadata": {},
   "outputs": [],
   "source": [
    "/****2****/\n",
    "\n",
    "num1 = prompt('enter first value');\n",
    "    if(num1){\n",
    "        num2 = prompt('enter second value');\n",
    "    }\n",
    "\n",
    "function Addition(){ \n",
    "    //parsing to integer\n",
    "    num1 = Number(num1);\n",
    "    num2 = Number(num2);   \n",
    "    res = num1 + num2;\n",
    "    return res; \n",
    "}\n",
    "\n",
    "txt = document.querySelector('.textfield');\n",
    "txt.value = Addition (); "
   ]
  },
  {
   "cell_type": "code",
   "execution_count": null,
   "metadata": {},
   "outputs": [],
   "source": [
    "/****3****/\n",
    "\n",
    "do{\n",
    "    var x = prompt('enter first value');\n",
    "    \n",
    "    if(x){ \n",
    "        var y = prompt('enter second value');\n",
    "    }else{\n",
    "        alert(\"You did not enter any value\");\n",
    "    }\n",
    "}while(x == null || x == '');\n",
    "\n",
    "function addition(num1, num2){\n",
    "    var num1 = Number(num1);\n",
    "    var num2 = Number(num2);\n",
    "    var res = num1 + num2;\n",
    "    return res;\n",
    "}\n",
    "\n",
    "newValue = addition(x, y);\n",
    "\n",
    "txt = document.querySelector('.textfield');\n",
    "txt.value = newValue;\n",
    "alert(newValue);"
   ]
  },
  {
   "cell_type": "code",
   "execution_count": null,
   "metadata": {},
   "outputs": [],
   "source": [
    "/****4****/\n",
    "\n",
    "function getName (){\n",
    "    var nameElement = document.querySelector('.name');\n",
    "    var newName = nameElement.value;\n",
    "    >'Evans Mbithi'\n",
    "\n",
    "    //convert to lowercase\n",
    "    var lowerName = newName.toLowerCase();\n",
    "    >'evans mbithi'\n",
    "\n",
    "    //replace second name\n",
    "    newSecond = lowerName.replace('mbithi', 'ikindu');\n",
    "    console.log(newSecond);\n",
    "    >'evans ikindu'\n",
    "\n",
    "    return lowerName;\n",
    "}\n",
    "\n",
    "function getFirstName (){\n",
    "    var name = getName();\n",
    "    var firstName = name.split(\" \");\n",
    "    //console.log(firstName);\n",
    "    // \" \" splitting a space separates words\n",
    "    // \"\" without a space separates individual letters 'e', 'v', 'a', 'n', 's'    \n",
    "\n",
    "    return firstName[0];\n",
    "    >'evans'\n",
    "}\n",
    "\n",
    "firstName = getFirstName();\n",
    "alert(firstName);"
   ]
  },
  {
   "cell_type": "markdown",
   "metadata": {},
   "source": [
    "## Module 7\n",
    "\n",
    "### Objects and Arrays\n",
    "#### Objects\n",
    "syntax:\n",
    "\n",
    "> obj = {\"key\":\"value\",\"key2\":\"another value\"}<br>\n",
    "<em>{ key: 'value', key2: 'another value' }</em>\n",
    "\n",
    "> obj.key<br>\n",
    "<em>'value'</em>\n",
    "\n",
    "> obj.key2<br>\n",
    "<em>'another value'</em>\n",
    "\n",
    "example of a person object "
   ]
  },
  {
   "cell_type": "code",
   "execution_count": null,
   "metadata": {},
   "outputs": [],
   "source": [
    "person = {\n",
    "    //the quotes \"\" in the key definition are not really necessary\n",
    "    \"name\":\"evans\",\n",
    "     location:\"nairobi\",\n",
    "     age: 27,\n",
    "}\n",
    "\n",
    "console.log(person.name);\n",
    ">'evans'\n",
    "\n",
    "console.log(person.location);\n",
    ">'nairobi'\n",
    "\n",
    "console.log(person.age);\n",
    ">27"
   ]
  },
  {
   "cell_type": "markdown",
   "metadata": {},
   "source": [
    "#### Array operations\n",
    "\n",
    "Declare a bunch of strings, int, floats etc in a list (separated by commas) inside a pair of square brackets\n",
    "\n",
    "syntax\n",
    "\n",
    "arrayName = ['0','1','2', int, float]\n",
    "\n",
    "Example\n",
    "\n"
   ]
  },
  {
   "cell_type": "code",
   "execution_count": null,
   "metadata": {},
   "outputs": [],
   "source": [
    "friends = ['kelvin', 'evans', 'terry', 'mercy', 'ken'];"
   ]
  },
  {
   "cell_type": "markdown",
   "metadata": {},
   "source": [
    "These items are often arranged in indexes starting from zero [0] to represent the first element\n",
    "\n",
    "To access 'kelvin' use\n",
    ">friends[0]"
   ]
  },
  {
   "cell_type": "code",
   "execution_count": null,
   "metadata": {},
   "outputs": [],
   "source": [
    "friends[1]\n",
    "'evans'"
   ]
  },
  {
   "cell_type": "markdown",
   "metadata": {},
   "source": [
    "<b>IndexOf()</b><br>\n",
    "Searches the array for an element and returns its position"
   ]
  },
  {
   "cell_type": "code",
   "execution_count": null,
   "metadata": {},
   "outputs": [],
   "source": [
    "friends.indexOf('ken')\n",
    "> 4\n",
    "\n",
    "friends.indexOf('kelvin')\n",
    "> 0"
   ]
  },
  {
   "cell_type": "markdown",
   "metadata": {},
   "source": [
    "Ken is in index [4] whereas kelvin is in index [0]<br>\n",
    "Undefined elements will be shown to have index [-1]"
   ]
  },
  {
   "cell_type": "code",
   "execution_count": null,
   "metadata": {},
   "outputs": [],
   "source": [
    "friends.indexOf('ben')\n",
    "> -1"
   ]
  },
  {
   "cell_type": "markdown",
   "metadata": {},
   "source": [
    "<b>Push()</b><br>\n",
    "Say we have a list of group members in an array. To add members to the array, we use push().<br>\n",
    "Adds one or more elements at the end of an array"
   ]
  },
  {
   "cell_type": "code",
   "execution_count": null,
   "metadata": {},
   "outputs": [],
   "source": [
    "Declare an empty array\n",
    "group1 = [];\n",
    "\n",
    "Add new members\n",
    "group1.push('evans','terry');\n",
    "\n",
    "list of members in the array\n",
    "console.log(group1);\n",
    ">[ 'evans', 'terry' ]"
   ]
  },
  {
   "cell_type": "markdown",
   "metadata": {},
   "source": [
    "<b>Pop()</b><br>\n",
    "Removes the last element from an array (Last In First Out)"
   ]
  },
  {
   "cell_type": "code",
   "execution_count": null,
   "metadata": {},
   "outputs": [],
   "source": [
    "group1.pop('terry');\n",
    "\n",
    "list of members in the array\n",
    "console.log(group1);\n",
    ">[ 'evans' ]"
   ]
  },
  {
   "cell_type": "markdown",
   "metadata": {},
   "source": [
    "<b>Reverse()</b><br>\n",
    "Reverse the order of elements in an array"
   ]
  },
  {
   "cell_type": "code",
   "execution_count": null,
   "metadata": {},
   "outputs": [],
   "source": [
    "friends = ['kelvin', 'evans', 'terry', 'mercy', 'ken'];\n",
    "\n",
    "friends.reverse()\n",
    "[ 'ken', 'mercy', 'terry', 'evans', 'kelvin' ]"
   ]
  },
  {
   "cell_type": "markdown",
   "metadata": {},
   "source": [
    "<b>Join()</b><br>\n",
    "Returns a new string by concatenating all the elements in an array."
   ]
  },
  {
   "cell_type": "code",
   "execution_count": null,
   "metadata": {},
   "outputs": [],
   "source": [
    " friends.join()\n",
    "'ken,mercy,terry,evans,kelvin'\n",
    "\n",
    "friends.join(\"\")\n",
    "'kenmercyterryevanskelvin'\n",
    "\n",
    "friends.join(\" \")\n",
    "'ken mercy terry evans kelvin'\n",
    "\n",
    "friends.join(\"-\")\n",
    "'ken-mercy-terry-evans-kelvin'"
   ]
  },
  {
   "cell_type": "markdown",
   "metadata": {},
   "source": [
    "## Module 8\n",
    "\n",
    "### String manipulation\n"
   ]
  },
  {
   "cell_type": "code",
   "execution_count": null,
   "metadata": {},
   "outputs": [],
   "source": [
    "str = \"Hello world. I am Learning javascript\"\n",
    "\n",
    "str.indexOf(\"Learning\");\n",
    "> 18\n",
    "str.indexOf(\"learning\");\n",
    "> -1"
   ]
  },
  {
   "cell_type": "markdown",
   "metadata": {},
   "source": [
    "<b>indexOf()</b> shows the position of an item in a string. For this instance, it shows the word \"Learning\" to be in the 18th position<br>\n",
    "It is case sensitive, that's why it could not find \"learning\", hence -1."
   ]
  },
  {
   "cell_type": "markdown",
   "metadata": {},
   "source": [
    "<b>str.toLowerCase()</b> transforms all letters in a string to lowercase. <br>\n",
    "<b>str.toUpperCase()</b> capitalizes all words of a string"
   ]
  },
  {
   "cell_type": "markdown",
   "metadata": {},
   "source": [
    "<b>substr()</b><br>"
   ]
  },
  {
   "cell_type": "code",
   "execution_count": null,
   "metadata": {},
   "outputs": [],
   "source": [
    "str.substr(5, 5)\n",
    "> ' worl'"
   ]
  },
  {
   "cell_type": "markdown",
   "metadata": {},
   "source": [
    "<b>substr()</b> technically starts from the 6th character and shows the next five characters after it."
   ]
  },
  {
   "cell_type": "code",
   "execution_count": null,
   "metadata": {},
   "outputs": [],
   "source": [
    "str.substr(0, 10)\n",
    "'Hello worl'\n",
    "\n",
    "This would show the first character up to the tenth."
   ]
  },
  {
   "cell_type": "markdown",
   "metadata": {},
   "source": [
    "<b>slice()</b><br>"
   ]
  },
  {
   "cell_type": "code",
   "execution_count": null,
   "metadata": {},
   "outputs": [],
   "source": [
    "str.slice(5, 20)\n",
    "> ' world. I am Le'"
   ]
  },
  {
   "cell_type": "markdown",
   "metadata": {},
   "source": [
    "<b>slice()</b> is similar to substr(5,20). However, while the latter would start from the 6th character and show the next 20 characters after, slice(5,20) would start at the 6th character and show upto the 20th character from zero [0]."
   ]
  },
  {
   "cell_type": "code",
   "execution_count": null,
   "metadata": {},
   "outputs": [],
   "source": [
    "str.slice(5, 11)\n",
    "> ' world'"
   ]
  }
 ],
 "metadata": {
  "kernelspec": {
   "display_name": "Python 3",
   "language": "python",
   "name": "python3"
  }
 },
 "nbformat": 4,
 "nbformat_minor": 2
}
